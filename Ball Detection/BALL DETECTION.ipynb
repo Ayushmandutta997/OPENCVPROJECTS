{
 "cells": [
  {
   "cell_type": "markdown",
   "id": "valuable-austin",
   "metadata": {},
   "source": [
    "# BALL DETECTION (using hsv)\n"
   ]
  },
  {
   "cell_type": "code",
   "execution_count": 1,
   "id": "worldwide-personal",
   "metadata": {},
   "outputs": [],
   "source": [
    "import cv2\n",
    "import numpy as np"
   ]
  },
  {
   "cell_type": "code",
   "execution_count": 13,
   "id": "micro-uganda",
   "metadata": {},
   "outputs": [],
   "source": [
    "def func(x):\n",
    "    pass\n",
    "\n",
    "cap=cv2.VideoCapture(r\"C:\\Users\\ANSH TRIVEDI\\Downloads\\Ball detection\\ball detection.mp4\")\n",
    "\n",
    "# cv2.namedWindow(\"WIN\")\n",
    "# cv2.resizeWindow(\"WIN\",(300,400))\n",
    "\n",
    "# cv2.createTrackbar(\"LH\",\"WIN\",0,179,func)\n",
    "# cv2.createTrackbar(\"LS\",\"WIN\",0,255,func)\n",
    "# cv2.createTrackbar(\"LV\",\"WIN\",0,255,func)\n",
    "# cv2.createTrackbar(\"HH\",\"WIN\",0,179,func)\n",
    "# cv2.createTrackbar(\"HS\",\"WIN\",0,255,func)\n",
    "# cv2.createTrackbar(\"HV\",\"WIN\",0,255,func)\n",
    "\n",
    "while 1:\n",
    "    ret,frame = cap.read()\n",
    "    frame = cv2.resize(frame,(500,480))\n",
    "    \n",
    "    hsv = cv2.cvtColor(frame,cv2.COLOR_BGR2HSV)\n",
    "    \n",
    "#     lh = cv2.getTrackbarPos(\"LH\",\"WIN\")\n",
    "#     ls = cv2.getTrackbarPos(\"LS\",\"WIN\")\n",
    "#     lv = cv2.getTrackbarPos(\"LV\",\"WIN\")\n",
    "#     hh = cv2.getTrackbarPos(\"HH\",\"WIN\")\n",
    "#     hs = cv2.getTrackbarPos(\"HS\",\"WIN\")\n",
    "#     hv = cv2.getTrackbarPos(\"HV\",\"WIN\")\n",
    "    \n",
    "#     lower = np.array([lh,ls,lv])\n",
    "#     upper = np.array([hh,hs,hv])\n",
    "    \n",
    "    lower = np.array([0,86,160])\n",
    "    upper = np.array([13,255,255])\n",
    "    \n",
    "    th = cv2.inRange(hsv,lower,upper)\n",
    "    \n",
    "    contours,_ = cv2.findContours(th,cv2.RETR_TREE,cv2.CHAIN_APPROX_SIMPLE)\n",
    "    if(len(contours)!=0):\n",
    "        max_cnt = max(contours,key = cv2.contourArea)\n",
    "        area = cv2.contourArea(max_cnt)\n",
    "        if(area>150):\n",
    "            x,y,w,h = cv2.boundingRect(max_cnt)\n",
    "            frame = cv2.rectangle(frame,(x,y),(x+w,y+h),(0,255,0),2)\n",
    "            frame = cv2.putText(frame,\"ORANGE\",(x,y-10), cv2.FONT_HERSHEY_COMPLEX,1,(0,0,255),2,cv2.LINE_4)\n",
    "             #frame = cv2.drawContours(frame,[max_cnt],0,(0,255,0),3)\n",
    "            \n",
    "            \n",
    "            \n",
    "    cv2.imshow(\"WIN1\", th)\n",
    "    cv2.imshow(\"WIN2\", frame)\n",
    "    \n",
    "    if(cv2.waitKey(100)==ord(\"q\")):\n",
    "        break\n",
    "    \n",
    "cap.release()\n",
    "cv2.destroyAllWindows()\n",
    "    \n",
    "    \n",
    "\n"
   ]
  },
  {
   "cell_type": "markdown",
   "id": "billion-treaty",
   "metadata": {},
   "source": [
    "# CANNY EDGE DETECTOR"
   ]
  },
  {
   "cell_type": "code",
   "execution_count": 22,
   "id": "trained-millennium",
   "metadata": {
    "scrolled": false
   },
   "outputs": [],
   "source": [
    "cap=cv2.VideoCapture(r\"C:\\Users\\ANSH TRIVEDI\\Downloads\\Ball detection\\ball detection.mp4\")\n",
    "\n",
    "\n",
    "while 1:\n",
    "    ret,frame=cap.read()\n",
    "    frame=cv2.resize(frame,(640,480))\n",
    "    \n",
    "    img = cv2.Canny(frame,100,75)\n",
    "    cv2.imshow(\"win2\",img)\n",
    "    \n",
    "    contours,_ = cv2.findContours(img,cv2.RETR_TREE,cv2.CHAIN_APPROX_SIMPLE)\n",
    "    if(len(contours)!=0):\n",
    "        max_cnt = max(contours,key = cv2.contourArea)\n",
    "        area = cv2.contourArea(max_cnt)\n",
    "        if(area>150):\n",
    "            frame = cv2.drawContours(frame,[max_cnt],0,(0,255,0),3)\n",
    "    \n",
    "    cv2.imshow(\"WIN1\",frame)\n",
    "    if(cv2.waitKey(100)==ord(\"q\")):\n",
    "        break\n",
    "cap.release()\n",
    "cv2.destroyAllWindows()"
   ]
  },
  {
   "cell_type": "code",
   "execution_count": null,
   "id": "e1b990ab",
   "metadata": {},
   "outputs": [],
   "source": []
  }
 ],
 "metadata": {
  "kernelspec": {
   "display_name": "Python 3",
   "language": "python",
   "name": "python3"
  },
  "language_info": {
   "codemirror_mode": {
    "name": "ipython",
    "version": 3
   },
   "file_extension": ".py",
   "mimetype": "text/x-python",
   "name": "python",
   "nbconvert_exporter": "python",
   "pygments_lexer": "ipython3",
   "version": "3.6.4"
  }
 },
 "nbformat": 4,
 "nbformat_minor": 5
}
